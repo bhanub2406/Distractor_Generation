{
 "cells": [
  {
   "cell_type": "code",
   "execution_count": 1,
   "metadata": {
    "colab": {
     "base_uri": "https://localhost:8080/",
     "height": 17
    },
    "colab_type": "code",
    "executionInfo": {
     "elapsed": 2041,
     "status": "ok",
     "timestamp": 1570511065290,
     "user": {
      "displayName": "Bhanu sree Balisetty",
      "photoUrl": "https://lh3.googleusercontent.com/a-/AAuE7mDP21Fovgv-54GdUi8eB52GjzNw-SFegRrRjvMChg=s64",
      "userId": "06056630683889706511"
     },
     "user_tz": -330
    },
    "id": "hmagIsH7Nb2h",
    "outputId": "7d23062a-688c-43c9-cac5-875ddc5e0601"
   },
   "outputs": [
    {
     "data": {
      "text/html": [
       "        <script type=\"text/javascript\">\n",
       "        window.PlotlyConfig = {MathJaxConfig: 'local'};\n",
       "        if (window.MathJax) {MathJax.Hub.Config({SVG: {font: \"STIX-Web\"}});}\n",
       "        if (typeof require !== 'undefined') {\n",
       "        require.undef(\"plotly\");\n",
       "        requirejs.config({\n",
       "            paths: {\n",
       "                'plotly': ['https://cdn.plot.ly/plotly-latest.min']\n",
       "            }\n",
       "        });\n",
       "        require(['plotly'], function(Plotly) {\n",
       "            window._Plotly = Plotly;\n",
       "        });\n",
       "        }\n",
       "        </script>\n",
       "        "
      ]
     },
     "metadata": {},
     "output_type": "display_data"
    }
   ],
   "source": [
    "#import all the necessary packages.\n",
    "from io import BytesIO\n",
    "import matplotlib.pyplot as plt\n",
    "import numpy as np\n",
    "import pandas as pd\n",
    "import warnings\n",
    "from bs4 import BeautifulSoup\n",
    "\n",
    "import math\n",
    "import time\n",
    "import re\n",
    "import os\n",
    "from sklearn.metrics.pairwise import cosine_similarity  \n",
    "from sklearn.metrics import pairwise_distances\n",
    "from matplotlib import gridspec\n",
    "from scipy.sparse import hstack\n",
    "import plotly\n",
    "import plotly.figure_factory as ff\n",
    "from plotly.graph_objs import Scatter, Layout\n",
    "\n",
    "plotly.offline.init_notebook_mode(connected=True)\n",
    "warnings.filterwarnings(\"ignore\")\n",
    "\n",
    "import gensim\n",
    "\n",
    "from gensim.models import Word2Vec, KeyedVectors\n",
    "# from sklearn.metrics.pairwise import cosine_similarity\n",
    "# import nltk\n",
    "# from nltk.corpus import stopwords"
   ]
  },
  {
   "cell_type": "code",
   "execution_count": 2,
   "metadata": {
    "colab": {
     "base_uri": "https://localhost:8080/",
     "height": 34
    },
    "colab_type": "code",
    "executionInfo": {
     "elapsed": 3225,
     "status": "ok",
     "timestamp": 1570511066485,
     "user": {
      "displayName": "Bhanu sree Balisetty",
      "photoUrl": "https://lh3.googleusercontent.com/a-/AAuE7mDP21Fovgv-54GdUi8eB52GjzNw-SFegRrRjvMChg=s64",
      "userId": "06056630683889706511"
     },
     "user_tz": -330
    },
    "id": "e3WpUWnqNxAl",
    "outputId": "fd96455e-30f9-4220-bb43-f171ff1c1f8c"
   },
   "outputs": [],
   "source": [
    "# from google.colab import drive\n",
    "# drive.mount('/content/gdrive')"
   ]
  },
  {
   "cell_type": "code",
   "execution_count": 3,
   "metadata": {
    "colab": {
     "base_uri": "https://localhost:8080/",
     "height": 221
    },
    "colab_type": "code",
    "executionInfo": {
     "elapsed": 3215,
     "status": "ok",
     "timestamp": 1570511066486,
     "user": {
      "displayName": "Bhanu sree Balisetty",
      "photoUrl": "https://lh3.googleusercontent.com/a-/AAuE7mDP21Fovgv-54GdUi8eB52GjzNw-SFegRrRjvMChg=s64",
      "userId": "06056630683889706511"
     },
     "user_tz": -330
    },
    "id": "E2vmb4UKNb2q",
    "outputId": "687bc3c5-7519-4b17-ee68-b9b81fc51a79"
   },
   "outputs": [
    {
     "name": "stdout",
     "output_type": "stream",
     "text": [
      "(31499, 3)\n"
     ]
    },
    {
     "data": {
      "text/html": [
       "<div>\n",
       "<style scoped>\n",
       "    .dataframe tbody tr th:only-of-type {\n",
       "        vertical-align: middle;\n",
       "    }\n",
       "\n",
       "    .dataframe tbody tr th {\n",
       "        vertical-align: top;\n",
       "    }\n",
       "\n",
       "    .dataframe thead th {\n",
       "        text-align: right;\n",
       "    }\n",
       "</style>\n",
       "<table border=\"1\" class=\"dataframe\">\n",
       "  <thead>\n",
       "    <tr style=\"text-align: right;\">\n",
       "      <th></th>\n",
       "      <th>question</th>\n",
       "      <th>answer_text</th>\n",
       "      <th>distractor</th>\n",
       "    </tr>\n",
       "  </thead>\n",
       "  <tbody>\n",
       "    <tr>\n",
       "      <th>0</th>\n",
       "      <td>Meals can be served</td>\n",
       "      <td>in rooms at 9:00 p. m.</td>\n",
       "      <td>'outside the room at 3:00 p. m.', 'in the dini...</td>\n",
       "    </tr>\n",
       "    <tr>\n",
       "      <th>1</th>\n",
       "      <td>It can be inferred from the passage that</td>\n",
       "      <td>The local government can deal with the problem...</td>\n",
       "      <td>'If some tragedies occur again ', ' relevant d...</td>\n",
       "    </tr>\n",
       "    <tr>\n",
       "      <th>2</th>\n",
       "      <td>The author called Tommy 's parents in order to</td>\n",
       "      <td>help them realize their influence on Tommy</td>\n",
       "      <td>'blame Tommy for his failing grades', 'blame T...</td>\n",
       "    </tr>\n",
       "    <tr>\n",
       "      <th>3</th>\n",
       "      <td>It can be inferred from the passage that</td>\n",
       "      <td>the writer is not very willing to use idioms</td>\n",
       "      <td>'idioms are the most important part in a langu...</td>\n",
       "    </tr>\n",
       "    <tr>\n",
       "      <th>4</th>\n",
       "      <td>How can we deal with snake wounds according to...</td>\n",
       "      <td>Stay calm and do n't move .</td>\n",
       "      <td>'Cut the wound and suck the poison out .'</td>\n",
       "    </tr>\n",
       "  </tbody>\n",
       "</table>\n",
       "</div>"
      ],
      "text/plain": [
       "                                            question  \\\n",
       "0                                Meals can be served   \n",
       "1           It can be inferred from the passage that   \n",
       "2     The author called Tommy 's parents in order to   \n",
       "3           It can be inferred from the passage that   \n",
       "4  How can we deal with snake wounds according to...   \n",
       "\n",
       "                                         answer_text  \\\n",
       "0                             in rooms at 9:00 p. m.   \n",
       "1  The local government can deal with the problem...   \n",
       "2         help them realize their influence on Tommy   \n",
       "3       the writer is not very willing to use idioms   \n",
       "4                        Stay calm and do n't move .   \n",
       "\n",
       "                                          distractor  \n",
       "0  'outside the room at 3:00 p. m.', 'in the dini...  \n",
       "1  'If some tragedies occur again ', ' relevant d...  \n",
       "2  'blame Tommy for his failing grades', 'blame T...  \n",
       "3  'idioms are the most important part in a langu...  \n",
       "4          'Cut the wound and suck the poison out .'  "
      ]
     },
     "execution_count": 3,
     "metadata": {},
     "output_type": "execute_result"
    }
   ],
   "source": [
    "# data = pd.read_csv('/content/gdrive/My Drive/Colab Notebooks/ValueLabs/Train.csv')\n",
    "data = pd.read_csv('Train.csv')\n",
    "print(data.shape)\n",
    "data.head()"
   ]
  },
  {
   "cell_type": "code",
   "execution_count": 4,
   "metadata": {
    "colab": {},
    "colab_type": "code",
    "id": "GOseaRdFNb2v",
    "scrolled": true
   },
   "outputs": [],
   "source": [
    "def remove_dup(x):\n",
    "    words = x.split(\",\")\n",
    "    words = list(set(words))\n",
    "    words = [\"'%s'\"%i.strip(\"' \") for i in words]\n",
    "    return ','.join(words)"
   ]
  },
  {
   "cell_type": "code",
   "execution_count": 5,
   "metadata": {
    "scrolled": true
   },
   "outputs": [
    {
     "data": {
      "text/html": [
       "<div>\n",
       "<style scoped>\n",
       "    .dataframe tbody tr th:only-of-type {\n",
       "        vertical-align: middle;\n",
       "    }\n",
       "\n",
       "    .dataframe tbody tr th {\n",
       "        vertical-align: top;\n",
       "    }\n",
       "\n",
       "    .dataframe thead th {\n",
       "        text-align: right;\n",
       "    }\n",
       "</style>\n",
       "<table border=\"1\" class=\"dataframe\">\n",
       "  <thead>\n",
       "    <tr style=\"text-align: right;\">\n",
       "      <th></th>\n",
       "      <th>question</th>\n",
       "      <th>answer_text</th>\n",
       "      <th>distractor</th>\n",
       "    </tr>\n",
       "  </thead>\n",
       "  <tbody>\n",
       "    <tr>\n",
       "      <th>0</th>\n",
       "      <td>Meals can be served</td>\n",
       "      <td>in rooms at 9:00 p. m.</td>\n",
       "      <td>['in the dining - room from 7:30 a. m. to 9:15...</td>\n",
       "    </tr>\n",
       "    <tr>\n",
       "      <th>1</th>\n",
       "      <td>It can be inferred from the passage that</td>\n",
       "      <td>The local government can deal with the problem...</td>\n",
       "      <td>['Currently', 'relevant departments of the Sta...</td>\n",
       "    </tr>\n",
       "    <tr>\n",
       "      <th>2</th>\n",
       "      <td>The author called Tommy 's parents in order to</td>\n",
       "      <td>help them realize their influence on Tommy</td>\n",
       "      <td>['blame Tommy for his failing grades', 'blame ...</td>\n",
       "    </tr>\n",
       "    <tr>\n",
       "      <th>3</th>\n",
       "      <td>It can be inferred from the passage that</td>\n",
       "      <td>the writer is not very willing to use idioms</td>\n",
       "      <td>['idioms are the most important part in a lang...</td>\n",
       "    </tr>\n",
       "    <tr>\n",
       "      <th>4</th>\n",
       "      <td>How can we deal with snake wounds according to...</td>\n",
       "      <td>Stay calm and do n't move .</td>\n",
       "      <td>['Cut the wound and suck the poison out .']</td>\n",
       "    </tr>\n",
       "  </tbody>\n",
       "</table>\n",
       "</div>"
      ],
      "text/plain": [
       "                                            question  \\\n",
       "0                                Meals can be served   \n",
       "1           It can be inferred from the passage that   \n",
       "2     The author called Tommy 's parents in order to   \n",
       "3           It can be inferred from the passage that   \n",
       "4  How can we deal with snake wounds according to...   \n",
       "\n",
       "                                         answer_text  \\\n",
       "0                             in rooms at 9:00 p. m.   \n",
       "1  The local government can deal with the problem...   \n",
       "2         help them realize their influence on Tommy   \n",
       "3       the writer is not very willing to use idioms   \n",
       "4                        Stay calm and do n't move .   \n",
       "\n",
       "                                          distractor  \n",
       "0  ['in the dining - room from 7:30 a. m. to 9:15...  \n",
       "1  ['Currently', 'relevant departments of the Sta...  \n",
       "2  ['blame Tommy for his failing grades', 'blame ...  \n",
       "3  ['idioms are the most important part in a lang...  \n",
       "4        ['Cut the wound and suck the poison out .']  "
      ]
     },
     "execution_count": 5,
     "metadata": {},
     "output_type": "execute_result"
    }
   ],
   "source": [
    "# # removing duplicate distractors and convert distract column to list\n",
    "data.distractor = data.distractor.apply(remove_dup)\n",
    "data.distractor = [i.split(',') for i in data.distractor]\n",
    "data.head()"
   ]
  },
  {
   "cell_type": "code",
   "execution_count": 8,
   "metadata": {
    "scrolled": true
   },
   "outputs": [
    {
     "data": {
      "text/html": [
       "<div>\n",
       "<style scoped>\n",
       "    .dataframe tbody tr th:only-of-type {\n",
       "        vertical-align: middle;\n",
       "    }\n",
       "\n",
       "    .dataframe tbody tr th {\n",
       "        vertical-align: top;\n",
       "    }\n",
       "\n",
       "    .dataframe thead th {\n",
       "        text-align: right;\n",
       "    }\n",
       "</style>\n",
       "<table border=\"1\" class=\"dataframe\">\n",
       "  <thead>\n",
       "    <tr style=\"text-align: right;\">\n",
       "      <th></th>\n",
       "      <th>question</th>\n",
       "      <th>answer_text</th>\n",
       "      <th>distractor</th>\n",
       "    </tr>\n",
       "  </thead>\n",
       "  <tbody>\n",
       "    <tr>\n",
       "      <th>0</th>\n",
       "      <td>Meals can be served</td>\n",
       "      <td>in rooms at 9:00 p. m.</td>\n",
       "      <td>'in the dining - room from 7:30 a. m. to 9:15 ...</td>\n",
       "    </tr>\n",
       "    <tr>\n",
       "      <th>0</th>\n",
       "      <td>Meals can be served</td>\n",
       "      <td>in rooms at 9:00 p. m.</td>\n",
       "      <td>'in the dining - room at 6:00 p. m.'</td>\n",
       "    </tr>\n",
       "    <tr>\n",
       "      <th>0</th>\n",
       "      <td>Meals can be served</td>\n",
       "      <td>in rooms at 9:00 p. m.</td>\n",
       "      <td>'outside the room at 3:00 p. m.'</td>\n",
       "    </tr>\n",
       "    <tr>\n",
       "      <th>1</th>\n",
       "      <td>It can be inferred from the passage that</td>\n",
       "      <td>The local government can deal with the problem...</td>\n",
       "      <td>'Currently'</td>\n",
       "    </tr>\n",
       "    <tr>\n",
       "      <th>1</th>\n",
       "      <td>It can be inferred from the passage that</td>\n",
       "      <td>The local government can deal with the problem...</td>\n",
       "      <td>'relevant departments of the State Council sho...</td>\n",
       "    </tr>\n",
       "    <tr>\n",
       "      <th>...</th>\n",
       "      <td>...</td>\n",
       "      <td>...</td>\n",
       "      <td>...</td>\n",
       "    </tr>\n",
       "    <tr>\n",
       "      <th>31497</th>\n",
       "      <td>According to Galbraith , people feel disconten...</td>\n",
       "      <td>materialism has run wild in modern society</td>\n",
       "      <td>'\"public spending has n't been cut down as exp...</td>\n",
       "    </tr>\n",
       "    <tr>\n",
       "      <th>31497</th>\n",
       "      <td>According to Galbraith , people feel disconten...</td>\n",
       "      <td>materialism has run wild in modern society</td>\n",
       "      <td>'they are in fear of another Great Depression'</td>\n",
       "    </tr>\n",
       "    <tr>\n",
       "      <th>31498</th>\n",
       "      <td>The boy grew up with the smell of the herbs be...</td>\n",
       "      <td>he often mixed herbs for his mother</td>\n",
       "      <td>'he liked go play with herbs .'</td>\n",
       "    </tr>\n",
       "    <tr>\n",
       "      <th>31498</th>\n",
       "      <td>The boy grew up with the smell of the herbs be...</td>\n",
       "      <td>he often mixed herbs for his mother</td>\n",
       "      <td>'he studied at a herbal medicine store'</td>\n",
       "    </tr>\n",
       "    <tr>\n",
       "      <th>31498</th>\n",
       "      <td>The boy grew up with the smell of the herbs be...</td>\n",
       "      <td>he often mixed herbs for his mother</td>\n",
       "      <td>'his family had a herbal medicine store'</td>\n",
       "    </tr>\n",
       "  </tbody>\n",
       "</table>\n",
       "<p>70181 rows × 3 columns</p>\n",
       "</div>"
      ],
      "text/plain": [
       "                                                question  \\\n",
       "0                                    Meals can be served   \n",
       "0                                    Meals can be served   \n",
       "0                                    Meals can be served   \n",
       "1               It can be inferred from the passage that   \n",
       "1               It can be inferred from the passage that   \n",
       "...                                                  ...   \n",
       "31497  According to Galbraith , people feel disconten...   \n",
       "31497  According to Galbraith , people feel disconten...   \n",
       "31498  The boy grew up with the smell of the herbs be...   \n",
       "31498  The boy grew up with the smell of the herbs be...   \n",
       "31498  The boy grew up with the smell of the herbs be...   \n",
       "\n",
       "                                             answer_text  \\\n",
       "0                                 in rooms at 9:00 p. m.   \n",
       "0                                 in rooms at 9:00 p. m.   \n",
       "0                                 in rooms at 9:00 p. m.   \n",
       "1      The local government can deal with the problem...   \n",
       "1      The local government can deal with the problem...   \n",
       "...                                                  ...   \n",
       "31497         materialism has run wild in modern society   \n",
       "31497         materialism has run wild in modern society   \n",
       "31498                he often mixed herbs for his mother   \n",
       "31498                he often mixed herbs for his mother   \n",
       "31498                he often mixed herbs for his mother   \n",
       "\n",
       "                                              distractor  \n",
       "0      'in the dining - room from 7:30 a. m. to 9:15 ...  \n",
       "0                   'in the dining - room at 6:00 p. m.'  \n",
       "0                       'outside the room at 3:00 p. m.'  \n",
       "1                                            'Currently'  \n",
       "1      'relevant departments of the State Council sho...  \n",
       "...                                                  ...  \n",
       "31497  '\"public spending has n't been cut down as exp...  \n",
       "31497     'they are in fear of another Great Depression'  \n",
       "31498                    'he liked go play with herbs .'  \n",
       "31498            'he studied at a herbal medicine store'  \n",
       "31498           'his family had a herbal medicine store'  \n",
       "\n",
       "[70181 rows x 3 columns]"
      ]
     },
     "execution_count": 8,
     "metadata": {},
     "output_type": "execute_result"
    }
   ],
   "source": [
    "data.explode('distractor')"
   ]
  },
  {
   "cell_type": "code",
   "execution_count": 17,
   "metadata": {},
   "outputs": [],
   "source": [
    "data.explode('distractor').reset_index(inplace=True)"
   ]
  },
  {
   "cell_type": "code",
   "execution_count": null,
   "metadata": {
    "colab": {},
    "colab_type": "code",
    "id": "A3KNZL1_Nb20"
   },
   "outputs": [],
   "source": [
    "#converting to lower case\n",
    "data = data.apply(lambda x: x.astype(str).str.lower())\n",
    "import re\n",
    "# replacing _' with '\n",
    "data = data.apply(lambda x: x.astype(str).str.replace(r\" '\", r\"'\"))\n",
    "# replacing ( n't) with (n't)\n",
    "data = data.apply(lambda x: x.astype(str).str.replace(r\" n't\", r\"n't\"))\n",
    "# replacing ' s with 's\n",
    "data = data.apply(lambda x: x.astype(str).str.replace(r\" 's\", r\"'s\"))\n",
    "# removing duplicate repeatitive distractors\n",
    "data.distractor = data.distractor.apply(remove_dup)\n",
    "data = pd.concat([data, data.distractor.str.split(\",\", expand=True)], axis = 1)\n",
    "# removing speacial charecters\n",
    "data = data.apply(lambda x: x.astype(str).str.replace(r\"[^A-Za-z0-9\\s]+\", r\"\"))"
   ]
  },
  {
   "cell_type": "code",
   "execution_count": null,
   "metadata": {
    "colab": {
     "base_uri": "https://localhost:8080/",
     "height": 34
    },
    "colab_type": "code",
    "executionInfo": {
     "elapsed": 4956,
     "status": "ok",
     "timestamp": 1570511068251,
     "user": {
      "displayName": "Bhanu sree Balisetty",
      "photoUrl": "https://lh3.googleusercontent.com/a-/AAuE7mDP21Fovgv-54GdUi8eB52GjzNw-SFegRrRjvMChg=s64",
      "userId": "06056630683889706511"
     },
     "user_tz": -330
    },
    "id": "m5A6YLDIbXJo",
    "outputId": "79d33f02-78a6-4f10-eebc-f35238cfd95e"
   },
   "outputs": [],
   "source": [
    "# Extracting repeated questions and marking them as common questions\n",
    "common_que = data.question.value_counts()\n",
    "common_que = list(common_que[common_que>3].index.values)\n",
    "common_que = [i.strip() for i in common_que]\n",
    "'the passage is mainly about' in common_que"
   ]
  },
  {
   "cell_type": "code",
   "execution_count": null,
   "metadata": {
    "colab": {},
    "colab_type": "code",
    "id": "5r5Ikzr-Nb24"
   },
   "outputs": [],
   "source": [
    "question_strings = data.question\n",
    "questions = data.question.apply(lambda x: x.split(\" \"))\n",
    "options_strings = data.drop(['question', 'distractor'], axis=1)\n",
    "options = options_strings.apply(lambda x: x.astype(str).str.split(\" \"), axis=1)"
   ]
  },
  {
   "cell_type": "code",
   "execution_count": null,
   "metadata": {
    "colab": {},
    "colab_type": "code",
    "id": "Eeslnw0CNb29"
   },
   "outputs": [],
   "source": [
    "X_questions = questions.to_numpy()\n",
    "X_options = options.to_numpy()"
   ]
  },
  {
   "cell_type": "code",
   "execution_count": null,
   "metadata": {
    "colab": {
     "base_uri": "https://localhost:8080/",
     "height": 51
    },
    "colab_type": "code",
    "executionInfo": {
     "elapsed": 26656,
     "status": "ok",
     "timestamp": 1570511089977,
     "user": {
      "displayName": "Bhanu sree Balisetty",
      "photoUrl": "https://lh3.googleusercontent.com/a-/AAuE7mDP21Fovgv-54GdUi8eB52GjzNw-SFegRrRjvMChg=s64",
      "userId": "06056630683889706511"
     },
     "user_tz": -330
    },
    "id": "nHxDR2_1Nb3B",
    "outputId": "190acbf2-32e2-4111-d6e3-b9272208d794",
    "scrolled": true
   },
   "outputs": [],
   "source": [
    "%%time\n",
    "w2v_ques_model = Word2Vec(X_questions, size=100, workers=4)\n",
    "# w2v_ques_model.save('/content/gdrive/My Drive/Colab Notebooks/ValueLabs/ques_word2vec.model')\n",
    "w2v_ques_model.save('ques_word2vec.model')"
   ]
  },
  {
   "cell_type": "code",
   "execution_count": null,
   "metadata": {
    "colab": {},
    "colab_type": "code",
    "id": "pNFMj1CuYwSW"
   },
   "outputs": [],
   "source": [
    "X_options = X_options.flatten()\n",
    "for index, i in enumerate(X_options):\n",
    "    X_options[index] = list(filter(lambda a: a != '', i))\n",
    "X_options = np.unique(X_options)\n",
    "w2v_opt_model = Word2Vec(X_options, size=100, workers=4)\n",
    "w2v_opt_model.save('opt_word2vec.model')\n",
    "# w2v_opt_model.save('/content/gdrive/My Drive/Colab Notebooks/ValueLabs/opt_word2vec.model')"
   ]
  },
  {
   "cell_type": "code",
   "execution_count": null,
   "metadata": {
    "colab": {},
    "colab_type": "code",
    "id": "5C-gRws0Yuhv"
   },
   "outputs": [],
   "source": [
    "def get_word_vec(sentence, text_type):\n",
    "    if text_type == 'question':\n",
    "        model = w2v_ques_model\n",
    "        vocab = list(w2v_ques_model.wv.vocab)\n",
    "    else:\n",
    "        model = w2v_opt_model\n",
    "        vocab = list(w2v_opt_model.wv.vocab)\n",
    "\n",
    "    vec = []\n",
    "    for i in sentence:\n",
    "        if i in vocab:\n",
    "            vec.append(model[i])\n",
    "        else:\n",
    "            vec.append(np.ones(shape=(100,)))\n",
    "    if len(sentence)==0:\n",
    "        vec.append(np.ones(shape=(100,)))\n",
    "    return np.mean(vec, axis=0)"
   ]
  },
  {
   "cell_type": "code",
   "execution_count": null,
   "metadata": {
    "colab": {
     "base_uri": "https://localhost:8080/",
     "height": 51
    },
    "colab_type": "code",
    "executionInfo": {
     "elapsed": 110243,
     "status": "ok",
     "timestamp": 1570511173591,
     "user": {
      "displayName": "Bhanu sree Balisetty",
      "photoUrl": "https://lh3.googleusercontent.com/a-/AAuE7mDP21Fovgv-54GdUi8eB52GjzNw-SFegRrRjvMChg=s64",
      "userId": "06056630683889706511"
     },
     "user_tz": -330
    },
    "id": "lK4paRVO4xn5",
    "outputId": "3cbcf274-cdf4-4275-f440-a4c200a75667"
   },
   "outputs": [],
   "source": [
    "%%time\n",
    "X_ques_vec = np.array([get_word_vec(xi, 'question') for xi in X_questions])\n",
    "X_opt_vec = np.array([get_word_vec(xi, 'option') for xi in X_options])"
   ]
  },
  {
   "cell_type": "code",
   "execution_count": null,
   "metadata": {},
   "outputs": [],
   "source": [
    "X_opt_vec.shape"
   ]
  },
  {
   "cell_type": "code",
   "execution_count": null,
   "metadata": {
    "colab": {},
    "colab_type": "code",
    "id": "lSb5P-7vfLTi"
   },
   "outputs": [],
   "source": [
    "def get_top_n_similiarities(sentance, n, text_type):\n",
    "    if text_type == 'question':\n",
    "        train_data = X_questions\n",
    "        train_data_vec = X_ques_vec\n",
    "    else:\n",
    "        train_data = X_options\n",
    "        train_data_vec = X_opt_vec\n",
    "    distances = []\n",
    "    vec2 = get_word_vec(sentance.split(\" \"), text_type)\n",
    "    for index, i in enumerate(train_data):\n",
    "        vec1 = train_data_vec[index]\n",
    "        d = np.dot(vec1, vec2)/(np.linalg.norm(vec1)*np.linalg.norm(vec2))\n",
    "        if len(distances) < n:\n",
    "            distances.append((i,d))\n",
    "        else:\n",
    "            distances.sort(key=lambda x: x[1], reverse=True)\n",
    "            if (distances[-1][1]<d):\n",
    "                distances.pop()\n",
    "                distances.append((i,d))\n",
    "    result = ''\n",
    "    for index, i in enumerate(distances):\n",
    "        sen = ' '.join(i[0])\n",
    "        result = result + \"'\"+sen+\"'\"\n",
    "        if index!=len(distances)-1:\n",
    "            result+=\",\"\n",
    "    return result\n"
   ]
  },
  {
   "cell_type": "code",
   "execution_count": null,
   "metadata": {
    "colab": {},
    "colab_type": "code",
    "id": "oDEDRd1kio1t"
   },
   "outputs": [],
   "source": [
    "import re\n",
    "def preprocess_string(st):\n",
    "    st = st.lower()\n",
    "    st = re.sub(r\" '\", r\"'\", st)\n",
    "    st = re.sub(r\" n't\", r\"n't\", st)\n",
    "    st = re.sub(r\" 's\", r\"'s\", st)\n",
    "    st = re.sub(r\"[^A-Za-z0-9\\s]+\", r\"\", st)\n",
    "\n",
    "    return st\n"
   ]
  },
  {
   "cell_type": "code",
   "execution_count": null,
   "metadata": {
    "colab": {
     "base_uri": "https://localhost:8080/",
     "height": 88
    },
    "colab_type": "code",
    "executionInfo": {
     "elapsed": 111298,
     "status": "ok",
     "timestamp": 1570511174672,
     "user": {
      "displayName": "Bhanu sree Balisetty",
      "photoUrl": "https://lh3.googleusercontent.com/a-/AAuE7mDP21Fovgv-54GdUi8eB52GjzNw-SFegRrRjvMChg=s64",
      "userId": "06056630683889706511"
     },
     "user_tz": -330
    },
    "id": "0pu2NvtSZogn",
    "outputId": "a89e0392-c3c1-4183-ea71-1761b0984ed2"
   },
   "outputs": [],
   "source": [
    "%%time\n",
    "s = \"which of the following is true according to the passage\"\n",
    "print(get_top_n_similiarities(preprocess_string(s), 10, 'option'))"
   ]
  },
  {
   "cell_type": "markdown",
   "metadata": {
    "colab_type": "text",
    "id": "XIHzvyMYlOAw"
   },
   "source": [
    "## Generating output file"
   ]
  },
  {
   "cell_type": "code",
   "execution_count": null,
   "metadata": {
    "colab": {
     "base_uri": "https://localhost:8080/",
     "height": 204
    },
    "colab_type": "code",
    "executionInfo": {
     "elapsed": 111289,
     "status": "ok",
     "timestamp": 1570511174673,
     "user": {
      "displayName": "Bhanu sree Balisetty",
      "photoUrl": "https://lh3.googleusercontent.com/a-/AAuE7mDP21Fovgv-54GdUi8eB52GjzNw-SFegRrRjvMChg=s64",
      "userId": "06056630683889706511"
     },
     "user_tz": -330
    },
    "id": "Pu1eFj94lRwV",
    "outputId": "7b24ba93-6130-4349-9a8a-59be54720804",
    "scrolled": true
   },
   "outputs": [],
   "source": [
    "# test_data = pd.read_csv('/content/gdrive/My Drive/Colab Notebooks/ValueLabs/Results.csv')\n",
    "test_data = pd.read_csv('Results.csv')\n",
    "test_data.head()"
   ]
  },
  {
   "cell_type": "code",
   "execution_count": null,
   "metadata": {},
   "outputs": [],
   "source": [
    "preprocess_string(\"what 's the main idea of the text \")"
   ]
  },
  {
   "cell_type": "code",
   "execution_count": null,
   "metadata": {
    "colab": {
     "base_uri": "https://localhost:8080/",
     "height": 34
    },
    "colab_type": "code",
    "id": "4IKRRPuhN5eY",
    "outputId": "a52f81a5-e554-45c2-d8b9-b0364afe328f",
    "scrolled": true
   },
   "outputs": [],
   "source": [
    "%%time\n",
    "test_data.distractor = test_data.distractor.apply(str)\n",
    "from tqdm import tqdm\n",
    "for index, i in enumerate(test_data.iterrows()):\n",
    "    if(index>8080):\n",
    "        question = preprocess_string(test_data.at[index, 'question'])\n",
    "        answer = preprocess_string(test_data.at[index, 'answer_text'])\n",
    "        res = get_top_n_similiarities(answer, 3, 'option')\n",
    "        test_data.at[index, 'distractor'] = res\n",
    "        if(index%500 ==0):\n",
    "            print(str(index) + \"--\" +res)\n",
    "test_data.to_csv(\"Results2.csv\", index=False)"
   ]
  },
  {
   "cell_type": "code",
   "execution_count": null,
   "metadata": {
    "colab": {
     "base_uri": "https://localhost:8080/",
     "height": 163
    },
    "colab_type": "code",
    "executionInfo": {
     "elapsed": 2466,
     "status": "error",
     "timestamp": 1570520003673,
     "user": {
      "displayName": "Bhanu sree Balisetty",
      "photoUrl": "https://lh3.googleusercontent.com/a-/AAuE7mDP21Fovgv-54GdUi8eB52GjzNw-SFegRrRjvMChg=s64",
      "userId": "06056630683889706511"
     },
     "user_tz": -330
    },
    "id": "NTuGKv7aSRIR",
    "outputId": "ba6f55fa-fd22-4b55-d2c8-5ef7fbfd3e98",
    "scrolled": true
   },
   "outputs": [],
   "source": [
    "test_data.iloc[8085]"
   ]
  },
  {
   "cell_type": "code",
   "execution_count": null,
   "metadata": {
    "colab": {
     "base_uri": "https://localhost:8080/",
     "height": 34
    },
    "colab_type": "code",
    "executionInfo": {
     "elapsed": 3436,
     "status": "ok",
     "timestamp": 1570510880286,
     "user": {
      "displayName": "Bhanu sree Balisetty",
      "photoUrl": "https://lh3.googleusercontent.com/a-/AAuE7mDP21Fovgv-54GdUi8eB52GjzNw-SFegRrRjvMChg=s64",
      "userId": "06056630683889706511"
     },
     "user_tz": -330
    },
    "id": "hIhsHAZdL7x8",
    "outputId": "fa29fa41-045a-4159-ed7f-e9b04fdd3c0f"
   },
   "outputs": [],
   "source": [
    "# import tensorflow as tf\n",
    "# device_name = tf.test.gpu_device_name()\n",
    "# if device_name != '/device:GPU:0':\n",
    "#   raise SystemError('GPU device not found')\n",
    "# print('Found GPU at: {}'.format(device_name))"
   ]
  },
  {
   "cell_type": "code",
   "execution_count": null,
   "metadata": {
    "colab": {},
    "colab_type": "code",
    "id": "kdj9SiYbMBY5"
   },
   "outputs": [],
   "source": [
    "# data.to_csv(\"/content/gdrive/My Drive/Colab Notebooks/ValueLabs/t1.csv\")"
   ]
  }
 ],
 "metadata": {
  "accelerator": "GPU",
  "colab": {
   "collapsed_sections": [],
   "name": "ValueLabs.ipynb",
   "provenance": []
  },
  "kernelspec": {
   "display_name": "Python 3",
   "language": "python",
   "name": "python3"
  },
  "language_info": {
   "codemirror_mode": {
    "name": "ipython",
    "version": 3
   },
   "file_extension": ".py",
   "mimetype": "text/x-python",
   "name": "python",
   "nbconvert_exporter": "python",
   "pygments_lexer": "ipython3",
   "version": "3.7.3"
  }
 },
 "nbformat": 4,
 "nbformat_minor": 1
}
